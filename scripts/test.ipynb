{
 "cells": [
  {
   "cell_type": "code",
   "execution_count": 1,
   "metadata": {},
   "outputs": [
    {
     "name": "stdout",
     "output_type": "stream",
     "text": [
      "Collecting pgmpy\n",
      "  Downloading pgmpy-0.1.23-py3-none-any.whl (1.9 MB)\n",
      "\u001b[2K     \u001b[38;2;114;156;31m━━━━━━━━━━━━━━━━━━━━━━━━━━━━━━━━━━━━━━━━\u001b[0m \u001b[32m1.9/1.9 MB\u001b[0m \u001b[31m8.8 MB/s\u001b[0m eta \u001b[36m0:00:00\u001b[0m[31m9.7 MB/s\u001b[0m eta \u001b[36m0:00:01\u001b[0m\n",
      "\u001b[?25hRequirement already satisfied: networkx in /home/kaicohrs/miniconda3/envs/flags4dir/lib/python3.9/site-packages (from pgmpy) (2.8.4)\n",
      "Requirement already satisfied: numpy in /home/kaicohrs/miniconda3/envs/flags4dir/lib/python3.9/site-packages (from pgmpy) (1.25.0)\n",
      "Requirement already satisfied: scipy in /home/kaicohrs/miniconda3/envs/flags4dir/lib/python3.9/site-packages (from pgmpy) (1.10.1)\n",
      "Requirement already satisfied: scikit-learn in /home/kaicohrs/miniconda3/envs/flags4dir/lib/python3.9/site-packages (from pgmpy) (1.2.2)\n",
      "Requirement already satisfied: pandas in /home/kaicohrs/miniconda3/envs/flags4dir/lib/python3.9/site-packages (from pgmpy) (1.5.3)\n",
      "Requirement already satisfied: pyparsing in /home/kaicohrs/miniconda3/envs/flags4dir/lib/python3.9/site-packages (from pgmpy) (3.0.9)\n",
      "Requirement already satisfied: torch in /home/kaicohrs/miniconda3/envs/flags4dir/lib/python3.9/site-packages (from pgmpy) (2.0.1)\n",
      "Requirement already satisfied: statsmodels in /home/kaicohrs/miniconda3/envs/flags4dir/lib/python3.9/site-packages (from pgmpy) (0.14.0)\n",
      "Collecting tqdm (from pgmpy)\n",
      "  Using cached tqdm-4.66.1-py3-none-any.whl (78 kB)\n",
      "Requirement already satisfied: joblib in /home/kaicohrs/miniconda3/envs/flags4dir/lib/python3.9/site-packages (from pgmpy) (1.2.0)\n",
      "Collecting opt-einsum (from pgmpy)\n",
      "  Using cached opt_einsum-3.3.0-py3-none-any.whl (65 kB)\n",
      "Requirement already satisfied: python-dateutil>=2.8.1 in /home/kaicohrs/miniconda3/envs/flags4dir/lib/python3.9/site-packages (from pandas->pgmpy) (2.8.2)\n",
      "Requirement already satisfied: pytz>=2020.1 in /home/kaicohrs/miniconda3/envs/flags4dir/lib/python3.9/site-packages (from pandas->pgmpy) (2022.7)\n",
      "Requirement already satisfied: threadpoolctl>=2.0.0 in /home/kaicohrs/miniconda3/envs/flags4dir/lib/python3.9/site-packages (from scikit-learn->pgmpy) (2.2.0)\n",
      "Requirement already satisfied: patsy>=0.5.2 in /home/kaicohrs/miniconda3/envs/flags4dir/lib/python3.9/site-packages (from statsmodels->pgmpy) (0.5.3)\n",
      "Requirement already satisfied: packaging>=21.3 in /home/kaicohrs/miniconda3/envs/flags4dir/lib/python3.9/site-packages (from statsmodels->pgmpy) (23.0)\n",
      "Requirement already satisfied: filelock in /home/kaicohrs/miniconda3/envs/flags4dir/lib/python3.9/site-packages (from torch->pgmpy) (3.9.0)\n",
      "Requirement already satisfied: typing-extensions in /home/kaicohrs/miniconda3/envs/flags4dir/lib/python3.9/site-packages (from torch->pgmpy) (4.6.3)\n",
      "Requirement already satisfied: sympy in /home/kaicohrs/miniconda3/envs/flags4dir/lib/python3.9/site-packages (from torch->pgmpy) (1.11.1)\n",
      "Requirement already satisfied: jinja2 in /home/kaicohrs/miniconda3/envs/flags4dir/lib/python3.9/site-packages (from torch->pgmpy) (3.1.2)\n",
      "Requirement already satisfied: six in /home/kaicohrs/miniconda3/envs/flags4dir/lib/python3.9/site-packages (from patsy>=0.5.2->statsmodels->pgmpy) (1.16.0)\n",
      "Requirement already satisfied: MarkupSafe>=2.0 in /home/kaicohrs/miniconda3/envs/flags4dir/lib/python3.9/site-packages (from jinja2->torch->pgmpy) (2.1.1)\n",
      "Requirement already satisfied: mpmath>=0.19 in /home/kaicohrs/miniconda3/envs/flags4dir/lib/python3.9/site-packages (from sympy->torch->pgmpy) (1.2.1)\n",
      "Installing collected packages: tqdm, opt-einsum, pgmpy\n",
      "Successfully installed opt-einsum-3.3.0 pgmpy-0.1.23 tqdm-4.66.1\n"
     ]
    }
   ],
   "source": [
    "!pip install pgmpy"
   ]
  },
  {
   "cell_type": "code",
   "execution_count": null,
   "metadata": {},
   "outputs": [],
   "source": [
    "graph:\n",
    "  - from: SMK\n",
    "    to: LC\n",
    "  - from: FH\n",
    "    to: LC\n",
    "  - from: LC\n",
    "    to: PN\n",
    "  - from: SMK\n",
    "    to: PN"
   ]
  },
  {
   "cell_type": "code",
   "execution_count": 2,
   "metadata": {},
   "outputs": [],
   "source": [
    "from pgmpy.base import DAG\n",
    "\n",
    "dag = DAG([('SMK', 'LC'), ('FH', 'LC'), ('LC', 'PN'), ('SMK', 'PN')])"
   ]
  },
  {
   "cell_type": "code",
   "execution_count": 3,
   "metadata": {},
   "outputs": [
    {
     "data": {
      "text/plain": [
       "(SMK ⟂ FH)\n",
       "(FH ⟂ SMK)\n",
       "(PN ⟂ FH | SMK, LC)"
      ]
     },
     "execution_count": 3,
     "metadata": {},
     "output_type": "execute_result"
    }
   ],
   "source": [
    "dag.local_independencies(['SMK', 'LC', 'FH', 'PN'])"
   ]
  },
  {
   "cell_type": "code",
   "execution_count": 19,
   "metadata": {},
   "outputs": [],
   "source": [
    "import yaml\n",
    "with open('../data/fire_barn.yml') as file:\n",
    "    data = yaml.safe_load(file)"
   ]
  },
  {
   "cell_type": "code",
   "execution_count": 25,
   "metadata": {},
   "outputs": [],
   "source": [
    "all_variables = list(set([data['graph'][i]['from'] for i in range(len(data['graph']))] + [data['graph'][i]['to'] for i in range(len(data['graph']))]))\n",
    "dag = DAG([(data['graph'][i]['from'], data['graph'][i]['to']) for i in range(len(data['graph']))])\n",
    "indep = dag.get_independencies()"
   ]
  },
  {
   "cell_type": "code",
   "execution_count": 60,
   "metadata": {},
   "outputs": [
    {
     "data": {
      "text/plain": [
       "(D ⟂ F, SF, M, L | S)"
      ]
     },
     "execution_count": 60,
     "metadata": {},
     "output_type": "execute_result"
    }
   ],
   "source": [
    "indep.__dict__['independencies'][0]"
   ]
  },
  {
   "cell_type": "code",
   "execution_count": 43,
   "metadata": {},
   "outputs": [
    {
     "data": {
      "text/plain": [
       "['D', 'L', 'SF', 'F', 'WS', 'BB', 'S', 'M']"
      ]
     },
     "execution_count": 43,
     "metadata": {},
     "output_type": "execute_result"
    }
   ],
   "source": [
    "all_variables"
   ]
  },
  {
   "cell_type": "code",
   "execution_count": 56,
   "metadata": {},
   "outputs": [
    {
     "data": {
      "text/plain": [
       "True"
      ]
     },
     "execution_count": 56,
     "metadata": {},
     "output_type": "execute_result"
    }
   ],
   "source": [
    "[1,2] == sorted([2,1])\n"
   ]
  },
  {
   "cell_type": "code",
   "execution_count": 59,
   "metadata": {},
   "outputs": [],
   "source": [
    "import random\n",
    "\n",
    "def sample_CI_statement(all_variables):\n",
    "    # Sample the first variable\n",
    "    var1 = random.choice(all_variables)\n",
    "    all_variables.remove(var1)\n",
    "\n",
    "    # Sample the second variable\n",
    "    var2 = random.choice(all_variables)\n",
    "    all_variables.remove(var2)\n",
    "\n",
    "    # Sample a random number of elements from the remaining ones\n",
    "    num_elements = random.randint(0, len(all_variables))\n",
    "    conditioning_set = random.sample(all_variables, num_elements)\n",
    "\n",
    "    return var1, var2, conditioning_set\n",
    "\n",
    "def graph_CI_test(var1, var2, conditioning_set, dag):\n",
    "    all_CI = dag.get_independencies().__dict__['independencies']\n",
    "    \n",
    "    for CI in all_CI:\n",
    "        if var1 in list(CI.__dict__['event1']):\n",
    "            if var2 in list(CI.__dict__['event2']):\n",
    "                if sorted(conditioning_set) == sorted(list(CI.__dict__['event3'])):\n",
    "                    return True\n",
    "    return False"
   ]
  },
  {
   "cell_type": "code",
   "execution_count": null,
   "metadata": {},
   "outputs": [],
   "source": [
    "graph_CI_test('D', 'F', ['S'])"
   ]
  }
 ],
 "metadata": {
  "kernelspec": {
   "display_name": "Python 3.9.17 ('flags4dir')",
   "language": "python",
   "name": "python3"
  },
  "language_info": {
   "codemirror_mode": {
    "name": "ipython",
    "version": 3
   },
   "file_extension": ".py",
   "mimetype": "text/x-python",
   "name": "python",
   "nbconvert_exporter": "python",
   "pygments_lexer": "ipython3",
   "version": "3.9.17"
  },
  "orig_nbformat": 4,
  "vscode": {
   "interpreter": {
    "hash": "9e20b1e59fd9b48297dc7c406ecf232d148137f1a7a4d9d0a69641ffd37923c0"
   }
  }
 },
 "nbformat": 4,
 "nbformat_minor": 2
}
