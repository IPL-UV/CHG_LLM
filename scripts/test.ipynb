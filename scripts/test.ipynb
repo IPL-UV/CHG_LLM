{
 "cells": [
  {
   "cell_type": "code",
   "execution_count": 3,
   "metadata": {},
   "outputs": [
    {
     "name": "stderr",
     "output_type": "stream",
     "text": [
      "/home/kaicohrs/Repositories/causal_GPT/env/lib/python3.10/site-packages/tqdm/auto.py:21: TqdmWarning: IProgress not found. Please update jupyter and ipywidgets. See https://ipywidgets.readthedocs.io/en/stable/user_install.html\n",
      "  from .autonotebook import tqdm as notebook_tqdm\n"
     ]
    }
   ],
   "source": [
    "%load_ext autoreload\n",
    "%autoreload 2\n",
    "\n",
    "import pybnesian as bn\n",
    "from causallearn.search.ConstraintBased.PC import pc\n",
    "\n",
    "import networkx as nx\n",
    "import matplotlib.pyplot as plt\n",
    "\n",
    "import pandas as pd\n",
    "from pathlib import Path\n",
    "import numpy as np\n",
    "\n",
    "import ast\n",
    "import yaml\n",
    "import sys\n",
    "from dotenv import load_dotenv\n",
    "import os\n",
    "\n",
    "import openai\n",
    "import git\n",
    "from datetime import datetime\n",
    "import asyncio \n",
    "import logging "
   ]
  },
  {
   "cell_type": "code",
   "execution_count": 4,
   "metadata": {},
   "outputs": [],
   "source": [
    "basepath = Path.cwd().parent\n",
    "experiment_path = basepath.joinpath('data', 'food_insecurity')\n",
    "sys.path.append('../')\n",
    "from gptci import *"
   ]
  },
  {
   "cell_type": "code",
   "execution_count": 5,
   "metadata": {},
   "outputs": [],
   "source": [
    "data = pd.read_csv(experiment_path.joinpath('horn_africa_food_data.csv')).astype(float)\n"
   ]
  },
  {
   "cell_type": "code",
   "execution_count": 6,
   "metadata": {},
   "outputs": [
    {
     "name": "stderr",
     "output_type": "stream",
     "text": [
      "/home/kaicohrs/Repositories/causal_GPT/env/lib/python3.10/site-packages/pyarrow/pandas_compat.py:373: FutureWarning: is_sparse is deprecated and will be removed in a future version. Check `isinstance(dtype, pd.SparseDtype)` instead.\n",
      "  if _pandas_api.is_sparse(col):\n"
     ]
    }
   ],
   "source": [
    "#LinearCorrelation, MutualInformation, KMutualInformation, RCoT, ChiSquare, DynamicLinearCorrelation, DynamicMutualInformation, DynamicKMutualInformation, DynamicRCoT, DynamicChiSquare\n",
    "test = bn.MutualInformation(data)\n",
    "pc = bn.PC()"
   ]
  },
  {
   "cell_type": "code",
   "execution_count": 68,
   "metadata": {},
   "outputs": [
    {
     "data": {
      "text/plain": [
       "0.9041771711038425"
      ]
     },
     "execution_count": 68,
     "metadata": {},
     "output_type": "execute_result"
    }
   ],
   "source": [
    "test.pvalue('enso', 'spi', [])"
   ]
  },
  {
   "cell_type": "code",
   "execution_count": 36,
   "metadata": {},
   "outputs": [],
   "source": [
    "graph = pc.estimate(test)"
   ]
  },
  {
   "cell_type": "code",
   "execution_count": 37,
   "metadata": {},
   "outputs": [
    {
     "name": "stdout",
     "output_type": "stream",
     "text": [
      "arcs: [('population', 'sorghum_production'), ('livestock_prices', 'population'), ('enso', 'gam_norm'), ('fatalities', 'enso'), ('food_prices', 'enso'), ('livestock_prices', 'enso'), ('idp_drought', 'livestock_prices'), ('water_prices', 'livestock_prices'), ('enso', 'livestock_prices'), ('spi', 'livestock_prices'), ('spi', 'food_prices'), ('enso', 'food_prices'), ('gam_norm', 'population'), ('gam_norm', 'food_prices'), ('food_prices', 'water_prices'), ('livestock_prices', 'water_prices')]\n",
      "edges : [('spi', 'idp_drought'), ('spi', 'fatalities')]\n"
     ]
    }
   ],
   "source": [
    "print(f\"arcs: {graph.arcs()}\")\n",
    "print(f\"edges : {graph.edges()}\")"
   ]
  },
  {
   "cell_type": "code",
   "execution_count": 7,
   "metadata": {},
   "outputs": [],
   "source": [
    "def render_output(graph, variables):\n",
    "    # Create a directed graph\n",
    "    G = nx.DiGraph()\n",
    "\n",
    "    for node in variables:\n",
    "        G.add_node(node)\n",
    "\n",
    "    # Add nodes and edges to the graph\n",
    "    G.add_edges_from(graph.arcs())\n",
    "    G.add_edges_from(graph.edges())\n",
    "    G.add_edges_from([(b,a) for (a,b) in graph.edges()])\n",
    "    \n",
    "    # Draw the graph\n",
    "    pos = nx.circular_layout(G)  # You can choose different layout algorithms\n",
    "    nx.draw(G, pos, with_labels=True, font_weight='bold', node_size=700, node_color='skyblue', font_size=8, arrowsize=15)\n",
    "\n",
    "    # Display the graph\n",
    "    plt.show()"
   ]
  },
  {
   "cell_type": "code",
   "execution_count": 8,
   "metadata": {},
   "outputs": [
    {
     "ename": "NameError",
     "evalue": "name 'graph' is not defined",
     "output_type": "error",
     "traceback": [
      "\u001b[0;31m---------------------------------------------------------------------------\u001b[0m",
      "\u001b[0;31mNameError\u001b[0m                                 Traceback (most recent call last)",
      "Cell \u001b[0;32mIn[8], line 1\u001b[0m\n\u001b[0;32m----> 1\u001b[0m render_output(\u001b[43mgraph\u001b[49m)\n",
      "\u001b[0;31mNameError\u001b[0m: name 'graph' is not defined"
     ]
    }
   ],
   "source": [
    "render_output(graph)"
   ]
  },
  {
   "cell_type": "code",
   "execution_count": 9,
   "metadata": {},
   "outputs": [],
   "source": [
    "def test_prop(n_no, n_yes, n, null = \"YES\", alpha = 0.05):\n",
    "    p_no = n_no / n # prop of no\n",
    "    p_yes = n_yes / n # prop of yes\n",
    "    p = (n_no + n_yes) / (2*n) # pooled prop \n",
    "    se = np.sqrt( p * (1 - p) * 2 / n) # standard error \n",
    "    if null == \"YES\":  \n",
    "        answ = \"YES\"\n",
    "        pval = norm.sf((p_no - p_yes) / se) # p_no - p_yes >> 0 is extreme for null == \"YES\" \n",
    "        if pval <= alpha:\n",
    "            answ = \"NO\"\n",
    "    if null == \"NO\":\n",
    "        answ = \"NO\"\n",
    "        pval = norm.sf((p_yes - p_no) / se) # p_yes - p_no >> 0 is extreme for null == \"NO\" \n",
    "        if pval <= alpha:\n",
    "            answ = \"YES\"\n",
    "    return answ, pval"
   ]
  },
  {
   "cell_type": "code",
   "execution_count": 10,
   "metadata": {},
   "outputs": [],
   "source": [
    "# Design a new test\n",
    "from pybnesian import IndependenceTest\n",
    "\n",
    "class HybridGPTIndependenceTest(IndependenceTest):\n",
    "    def __init__(self, data_info, pre_stored_file, gpt_variables = None, data_driven_test=None, method = \"vot\", null = \"YES\", test_list=None):\n",
    "        # IMPORTANT: Always call the parent class to initialize the C++ object.\n",
    "        IndependenceTest.__init__(self)\n",
    "        self.data_info = data_info\n",
    "        self.null = null\n",
    "        self.data_driven_test = data_driven_test\n",
    "        self.gpt_variables = gpt_variables\n",
    "        self.test_list = []\n",
    "        self.method=method\n",
    "        \n",
    "        # extract variable names from data dictionary\n",
    "        self.variables = [var['name'] for var in self.data_info['variables']]\n",
    "        self.pre_stored_file = pre_stored_file\n",
    "        self.current_level = -1 # value for level-wise increase with gpt queries\n",
    "            \n",
    "    def num_variables(self):\n",
    "        return len(self.variables)\n",
    "\n",
    "    def variable_names(self):\n",
    "        return self.variables\n",
    "\n",
    "    def has_variables(self, vars):\n",
    "        return set(vars).issubset(set(self.variables))\n",
    "\n",
    "    def name(self, index):\n",
    "        return self.variables[index]\n",
    "\n",
    "    def pvalue(self, x, y, z):\n",
    "        # Make sure that z is a list\n",
    "        if isinstance(z, str):\n",
    "            z = [z]\n",
    "        if z is None:\n",
    "            z = []\n",
    "        \n",
    "        # check if one of the strings in x+y+z is in gpt_variables\n",
    "        if len(set(z+[x]+[y]) & set(self.gpt_variables)) > 0:        \n",
    "            \n",
    "            rowXY = self.pre_stored_file.loc[(self.pre_stored_file['x'] == x) & (self.pre_stored_file['y'] == y) & (np.array([set(Z) for Z in self.pre_stored_file['z']]) ==set(z))]\n",
    "            rowYX = self.pre_stored_file.loc[(self.pre_stored_file['y'] == x) & (self.pre_stored_file['x'] == y) & (np.array([set(Z) for Z in self.pre_stored_file['z']]) ==set(z))]\n",
    "            # union of both dataframes\n",
    "            row = pd.concat([rowXY, rowYX])\n",
    "\n",
    "            if len(row) >= 1:\n",
    "                if len(row) > 1:\n",
    "                    print(f\"Warning: more than one row found in pre-stored file for statement {x} indep {y} given {z}. Average output reponse.\")\n",
    "        \n",
    "                n_no = row['n_no'].sum()\n",
    "                n_yes = row['n_yes'].sum()\n",
    "                nn = row['n'].sum()\n",
    "                \n",
    "                if self.method == \"stat\":\n",
    "                    answ, pval = test_prop(n_no, n_yes, nn, null = self.null, alpha = 0.05)\n",
    "                    if answ == \"NO\":\n",
    "                        return 0\n",
    "                    if answ == \"YES\":\n",
    "                        return 1\n",
    "\n",
    "                if self.method == \"vot\":\n",
    "                    if n_no > n_yes:\n",
    "                        # NO wins voting, not independent, significant evidence against conditional independence\n",
    "                        return 0\n",
    "                    if n_yes >  n_no:\n",
    "                        # YES wins voting, independent, or rather no significant evidence against conditional independence\n",
    "                        return 1\n",
    "                    if n_yes == n_no:\n",
    "                        if self.null == \"YES\":\n",
    "                            return 1\n",
    "                        if self.null == \"NO\":\n",
    "                            return 0\n",
    "\n",
    "                if self.method == \"wvot\":\n",
    "                    return 0\n",
    "                    ##TODO\n",
    "                        \n",
    "            if row.empty:\n",
    "                if self.current_level != -1 and len(z) > self.current_level:\n",
    "                    return 0\n",
    "                else:\n",
    "                    self.test_list.append({'x': x, 'y': y, \"z\": z})     \n",
    "                    self.current_level = len(z)\n",
    "                    return 1\n",
    "        else:\n",
    "            return self.data_driven_test.pvalue(x,y,z)\n",
    "            \n"
   ]
  },
  {
   "cell_type": "code",
   "execution_count": 11,
   "metadata": {},
   "outputs": [
    {
     "name": "stdout",
     "output_type": "stream",
     "text": [
      "enso: El Nino Southern Oscillation - To account for climate variability we collect data on ENSO from the World Meteorological Organization (WMO). ENSO phases are then categorized according to the Oceanic El Niño Index (ONI), which is based on a 3-month running mean of Sea Surface Temperature (SST) anomaly in the Niño 3.4 region, considered to be the most sensitive region to fluctuations, duration, and magnitude of ENSO events.\n",
      "spi: Precipitation - Standardized Precipitation Index to characterize dry spells\n",
      "fatalities: Violent Conflict - Proxy based on recorded fatalities\n",
      "food_prices: Market prices of staple food\n",
      "livestock_prices: Market prices of livestock\n",
      "water_prices: Market prices of water\n",
      "sorghum_production: Yield - Shorghum yield production\n",
      "idp_drought: Drought Displacement - Drought-induced internal displacement.\n",
      "population: Population - Population of Somalian districts.\n",
      "cred_plus_rem_norm: Received Cash - Number of individuals that received cash.\n",
      "gam_norm: Global Acute Malnutrition - Proxy of food insecurity.\n"
     ]
    }
   ],
   "source": [
    "with open(experiment_path.joinpath('horn_africa_food_info.yaml')) as file:\n",
    "    data_info = yaml.safe_load(file)\n",
    "\n",
    "for v in data_info['variables']:\n",
    "    print(\"{name}: {description}\".format(**v))\n",
    "variables = [v['name'] for v in data_info['variables']]\n",
    "\n",
    "n = 1\n",
    "enso_parent = list(((v, 'enso') for v in variables if v != 'enso'))\n",
    "spi_parent = list(((v, 'spi') for v in variables if v not in ['enso', 'spi']))\n",
    "black_list = enso_parent + spi_parent\n",
    "\n",
    "with open(experiment_path.joinpath('horn_africa_food_black_list.yaml'), 'w') as yaml_file:\n",
    "    yaml.dump(black_list, yaml_file, default_flow_style=False)\n",
    "\n",
    "gpt_variables = ['enso']\n",
    "\n",
    "# read relevant files:\n",
    "load_dotenv()\n",
    "openai.api_key = os.getenv(\"OPENAI_API_KEY\")\n",
    "openai.util.logger.setLevel(logging.WARNING)\n",
    "\n",
    "\n",
    "with open(experiment_path.joinpath('horn_africa_food_black_list.yaml')) as file:\n",
    "    black_list = yaml.load(file, Loader=yaml.FullLoader)\n",
    "\n",
    "with open(experiment_path.joinpath('horn_africa_food_listed.yaml')) as file:\n",
    "    listed = yaml.load(file, Loader=yaml.FullLoader)\n",
    "\n",
    "data = pd.read_csv(experiment_path.joinpath(\"horn_africa_food_data.csv\")).astype(float)\n"
   ]
  },
  {
   "cell_type": "code",
   "execution_count": 12,
   "metadata": {},
   "outputs": [
    {
     "name": "stdout",
     "output_type": "stream",
     "text": [
      "✔  [██████████████████��█████████████████████] 100% [00m:00s] Finished PC!less\n"
     ]
    },
    {
     "name": "stderr",
     "output_type": "stream",
     "text": [
      "/home/kaicohrs/Repositories/causal_GPT/env/lib/python3.10/site-packages/pyarrow/pandas_compat.py:373: FutureWarning: is_sparse is deprecated and will be removed in a future version. Check `isinstance(dtype, pd.SparseDtype)` instead.\n",
      "  if _pandas_api.is_sparse(col):\n"
     ]
    },
    {
     "data": {
      "image/png": "[encoded data removed]",
      "text/plain": [
       "<Figure size 640x480 with 1 Axes>"
      ]
     },
     "metadata": {},
     "output_type": "display_data"
    },
    {
     "name": "stdout",
     "output_type": "stream",
     "text": [
      "---------------------------\n",
      "To be tested: [{'x': 'enso', 'y': 'spi', 'z': []}, {'x': 'enso', 'y': 'fatalities', 'z': []}, {'x': 'enso', 'y': 'food_prices', 'z': []}, {'x': 'enso', 'y': 'livestock_prices', 'z': []}, {'x': 'enso', 'y': 'water_prices', 'z': []}, {'x': 'enso', 'y': 'sorghum_production', 'z': []}, {'x': 'enso', 'y': 'idp_drought', 'z': []}, {'x': 'enso', 'y': 'population', 'z': []}, {'x': 'enso', 'y': 'cred_plus_rem_norm', 'z': []}, {'x': 'enso', 'y': 'gam_norm', 'z': []}]\n",
      "Current level: 0\n",
      "---------------------------\n",
      "listed ci statements in the data file\n"
     ]
    },
    {
     "name": "stderr",
     "output_type": "stream",
     "text": [
      "100%|██████████| 20/20 [00:00<00:00, 4511.22it/s]"
     ]
    },
    {
     "name": "stdout",
     "output_type": "stream",
     "text": [
      "total task executed: 20\n"
     ]
    },
    {
     "name": "stderr",
     "output_type": "stream",
     "text": [
      "\n",
      "/tmp/ipykernel_62061/1842157746.py:62: FutureWarning: The behavior of DataFrame concatenation with empty or all-NA entries is deprecated. In a future version, this will no longer exclude empty or all-NA columns when determining the result dtypes. To retain the old behavior, exclude the relevant entries before the concat operation.\n",
      "  pre_stored_file = pd.concat([pre_stored_file, cisdf], ignore_index=True)\n"
     ]
    }
   ],
   "source": [
    "for i in range(1):\n",
    "    pre_stored_file = pd.read_csv(experiment_path.joinpath('predictions.csv'), index_col=0)\n",
    "    pre_stored_file['z'].fillna('[]', inplace=True)\n",
    "    pre_stored_file['z'] = pre_stored_file['z'].apply(lambda x: ast.literal_eval(x))\n",
    "\n",
    "    with open(experiment_path.joinpath('horn_africa_food_listed.yaml')) as file:\n",
    "        listed = yaml.load(file, Loader=yaml.FullLoader)\n",
    "    \n",
    "    # while listed is not empty\n",
    "    pc = bn.PC()\n",
    "    data_driven_test = bn.MutualInformation(data)\n",
    "\n",
    "    gptcit = HybridGPTIndependenceTest(data_info, pre_stored_file = pre_stored_file, gpt_variables = gpt_variables, data_driven_test=data_driven_test, method='vot')\n",
    "    graph = pc.estimate(gptcit, verbose=True, allow_bidirected = False, arc_blacklist=black_list)\n",
    "    render_output(graph, variables)\n",
    "    \n",
    "    # Example list\n",
    "    test_list = gptcit.test_list\n",
    "    print(\"---------------------------\")\n",
    "    print(f\"To be tested: {test_list}\")\n",
    "    print(f\"Current level: {gptcit.current_level}\")\n",
    "\n",
    "    # Write the list to the YAML file\n",
    "    with open(experiment_path.joinpath('horn_africa_food_listed.yaml'), 'w') as yaml_file:\n",
    "        yaml.dump(test_list, yaml_file, default_flow_style=False)\n",
    "        \n",
    "    with open(experiment_path.joinpath('horn_africa_food_listed.yaml')) as file:\n",
    "        listed = yaml.load(file, Loader=yaml.FullLoader)\n",
    "        \n",
    "\n",
    "    print(\"---------------------------\")\n",
    "    print(\"listed ci statements in the data file\")\n",
    "    listed_cis = test_list\n",
    "    cis = []\n",
    "    for ci in listed_cis:\n",
    "        ci.update({\"type\":\"listed\"})\n",
    "        cis.append(ci)\n",
    "        cis.append({'x':ci['y'], 'y':ci['x'], 'z':ci['z'], 'type':'listed'})\n",
    "    \n",
    "    ### tmstamp and git hash \n",
    "    tmstp = str(datetime.now())\n",
    "    repo = git.Repo(search_parent_directories=True)\n",
    "    sha = repo.head.object.hexsha\n",
    "\n",
    "    # get results \n",
    "    results = await gpt_cis(cis, data_info,\n",
    "            model=\"gpt-3.5-turbo\",\n",
    "            n=n,\n",
    "            temperature=0.6, tdelay = 0,\n",
    "            dryrun = True, verbose = False)\n",
    "        \n",
    "    ## append results to cis \n",
    "    for i in range(len(cis)):\n",
    "        result = results[i][0] #generate_random_dict(n) # = \n",
    "        \n",
    "        cis[i].update(result)\n",
    "        cis[i].update({\"sha\" : sha, \"tmstmp\" : tmstp, \n",
    "                        \"model\" : \"gpt-3.5-turbo\", \"temperature\" : 0.6}) \n",
    "\n",
    "    ######### prepare final results\n",
    "    cisdf = pd.DataFrame(cis)\n",
    "    pre_stored_file = pd.concat([pre_stored_file, cisdf], ignore_index=True)\n",
    "    pre_stored_file.to_csv(experiment_path.joinpath('predictions.csv'))\n",
    "\n"
   ]
  },
  {
   "cell_type": "code",
   "execution_count": 117,
   "metadata": {},
   "outputs": [
    {
     "data": {
      "text/plain": [
       "[]"
      ]
     },
     "execution_count": 117,
     "metadata": {},
     "output_type": "execute_result"
    }
   ],
   "source": [
    "listed_cis"
   ]
  },
  {
   "cell_type": "code",
   "execution_count": 91,
   "metadata": {},
   "outputs": [
    {
     "data": {
      "image/png": "[encoded data removed]",
      "text/plain": [
       "<Figure size 640x480 with 1 Axes>"
      ]
     },
     "metadata": {},
     "output_type": "display_data"
    }
   ],
   "source": [
    "render_output(graph, variables)"
   ]
  },
  {
   "cell_type": "code",
   "execution_count": 48,
   "metadata": {},
   "outputs": [
    {
     "data": {
      "text/plain": [
       "<function vars>"
      ]
     },
     "execution_count": 48,
     "metadata": {},
     "output_type": "execute_result"
    }
   ],
   "source": [
    "vars"
   ]
  },
  {
   "cell_type": "code",
   "execution_count": 95,
   "metadata": {},
   "outputs": [],
   "source": [
    "import random\n",
    "import numpy as np\n",
    "\n",
    "def generate_random_dict(n):\n",
    "    # Generate random values\n",
    "    pred = 'NO' #random.choice(['YES', 'NO'])\n",
    "    wpred = 'NO' #random.choice(['YES', 'NO'])\n",
    "    n_no = 1 #random.randint(0, n)\n",
    "    n_yes = 0 #n - n_no\n",
    "    n_total = n\n",
    "    no_conf = random.uniform(0, 1)\n",
    "    yes_conf = random.uniform(0, 1)\n",
    "    sum_rep_no_conf = random.uniform(0, 1)\n",
    "    sum_rep_yes_conf = random.uniform(0, 1)\n",
    "    \n",
    "    # Calculate averages, std, median, and quartiles\n",
    "    avg_rep_conf = (sum_rep_no_conf + sum_rep_yes_conf) / 2\n",
    "    avg_rep_no_conf = sum_rep_no_conf / max(n_no, 1)\n",
    "    avg_rep_yes_conf = sum_rep_yes_conf / max(n_yes, 1)\n",
    "    \n",
    "    std_rep_conf = np.std([sum_rep_no_conf, sum_rep_yes_conf])\n",
    "    std_rep_no_conf = np.std([sum_rep_no_conf])\n",
    "    std_rep_yes_conf = np.std([sum_rep_yes_conf])\n",
    "    \n",
    "    med_rep_conf = np.median([sum_rep_no_conf, sum_rep_yes_conf])\n",
    "    med_rep_no_conf = np.median([sum_rep_no_conf])\n",
    "    med_rep_yes_conf = np.median([sum_rep_yes_conf])\n",
    "    \n",
    "    q25_rep_conf = np.percentile([sum_rep_no_conf, sum_rep_yes_conf], 25)\n",
    "    q25_rep_no_conf = np.percentile([sum_rep_no_conf], 25)\n",
    "    q25_rep_yes_conf = np.percentile([sum_rep_yes_conf], 25)\n",
    "    \n",
    "    q75_rep_conf = np.percentile([sum_rep_no_conf, sum_rep_yes_conf], 75)\n",
    "    q75_rep_no_conf = np.percentile([sum_rep_no_conf], 75)\n",
    "    q75_rep_yes_conf = np.percentile([sum_rep_yes_conf], 75)\n",
    "    \n",
    "    # Create the dictionary\n",
    "    random_dict = {\n",
    "        'pred': pred,\n",
    "        'wpred': wpred,\n",
    "        'n_no': n_no,\n",
    "        'n_yes': n_yes,\n",
    "        'n': n_total,\n",
    "        'no_conf': no_conf,\n",
    "        'yes_conf': yes_conf,\n",
    "        'sum_rep_no_conf': sum_rep_no_conf,\n",
    "        'sum_rep_yes_conf': sum_rep_yes_conf,\n",
    "        'avg_rep_conf': avg_rep_conf,\n",
    "        'avg_rep_no_conf': avg_rep_no_conf,\n",
    "        'avg_rep_yes_conf': avg_rep_yes_conf,\n",
    "        'std_rep_conf': std_rep_conf,\n",
    "        'std_rep_no_conf': std_rep_no_conf,\n",
    "        'std_rep_yes_conf': std_rep_yes_conf,\n",
    "        'med_rep_conf': med_rep_conf,\n",
    "        'med_rep_no_conf': med_rep_no_conf,\n",
    "        'med_rep_yes_conf': med_rep_yes_conf,\n",
    "        'q25_rep_conf': q25_rep_conf,\n",
    "        'q25_rep_no_conf': q25_rep_no_conf,\n",
    "        'q25_rep_yes_conf': q25_rep_yes_conf,\n",
    "        'q75_rep_conf': q75_rep_conf,\n",
    "        'q75_rep_no_conf': q75_rep_no_conf,\n",
    "        'q75_rep_yes_conf': q75_rep_yes_conf\n",
    "    }\n",
    "    \n",
    "    return random_dict"
   ]
  },
  {
   "cell_type": "code",
   "execution_count": 8,
   "metadata": {},
   "outputs": [
    {
     "name": "stdout",
     "output_type": "stream",
     "text": [
      "---------------------------\n",
      "listed ci statements in the data file\n"
     ]
    },
    {
     "name": "stderr",
     "output_type": "stream",
     "text": [
      "100%|██████████| 10/10 [00:09<00:00,  1.05it/s]"
     ]
    },
    {
     "name": "stdout",
     "output_type": "stream",
     "text": [
      "total task executed: 10\n"
     ]
    },
    {
     "name": "stderr",
     "output_type": "stream",
     "text": [
      "\n"
     ]
    },
    {
     "ename": "AttributeError",
     "evalue": "'DataFrame' object has no attribute 'append'",
     "output_type": "error",
     "traceback": [
      "\u001b[0;31m---------------------------------------------------------------------------\u001b[0m",
      "\u001b[0;31mAttributeError\u001b[0m                            Traceback (most recent call last)",
      "\u001b[0;32m/tmp/ipykernel_41962/2515933254.py\u001b[0m in \u001b[0;36m?\u001b[0;34m()\u001b[0m\n\u001b[1;32m     31\u001b[0m                     \"model\" : \"gpt-3.5-turbo\", \"temperature\" : 0.6}) \n\u001b[1;32m     32\u001b[0m \u001b[0;34m\u001b[0m\u001b[0m\n\u001b[1;32m     33\u001b[0m \u001b[0;31m######### prepare final results\u001b[0m\u001b[0;34m\u001b[0m\u001b[0;34m\u001b[0m\u001b[0m\n\u001b[1;32m     34\u001b[0m \u001b[0mcisdf\u001b[0m \u001b[0;34m=\u001b[0m \u001b[0mpd\u001b[0m\u001b[0;34m.\u001b[0m\u001b[0mDataFrame\u001b[0m\u001b[0;34m(\u001b[0m\u001b[0mcis\u001b[0m\u001b[0;34m)\u001b[0m\u001b[0;34m\u001b[0m\u001b[0;34m\u001b[0m\u001b[0m\n\u001b[0;32m---> 35\u001b[0;31m \u001b[0mpredictions\u001b[0m \u001b[0;34m=\u001b[0m \u001b[0mpre_stored_file\u001b[0m\u001b[0;34m.\u001b[0m\u001b[0mappend\u001b[0m\u001b[0;34m(\u001b[0m\u001b[0mcisdf\u001b[0m\u001b[0;34m,\u001b[0m \u001b[0mignore_index\u001b[0m\u001b[0;34m=\u001b[0m\u001b[0;32mTrue\u001b[0m\u001b[0;34m)\u001b[0m\u001b[0;34m\u001b[0m\u001b[0;34m\u001b[0m\u001b[0m\n\u001b[0m",
      "\u001b[0;32m~/Repositories/causal_GPT/env/lib/python3.10/site-packages/pandas/core/generic.py\u001b[0m in \u001b[0;36m?\u001b[0;34m(self, name)\u001b[0m\n\u001b[1;32m   6200\u001b[0m             \u001b[0;32mand\u001b[0m \u001b[0mname\u001b[0m \u001b[0;32mnot\u001b[0m \u001b[0;32min\u001b[0m \u001b[0mself\u001b[0m\u001b[0;34m.\u001b[0m\u001b[0m_accessors\u001b[0m\u001b[0;34m\u001b[0m\u001b[0;34m\u001b[0m\u001b[0m\n\u001b[1;32m   6201\u001b[0m             \u001b[0;32mand\u001b[0m \u001b[0mself\u001b[0m\u001b[0;34m.\u001b[0m\u001b[0m_info_axis\u001b[0m\u001b[0;34m.\u001b[0m\u001b[0m_can_hold_identifiers_and_holds_name\u001b[0m\u001b[0;34m(\u001b[0m\u001b[0mname\u001b[0m\u001b[0;34m)\u001b[0m\u001b[0;34m\u001b[0m\u001b[0;34m\u001b[0m\u001b[0m\n\u001b[1;32m   6202\u001b[0m         ):\n\u001b[1;32m   6203\u001b[0m             \u001b[0;32mreturn\u001b[0m \u001b[0mself\u001b[0m\u001b[0;34m[\u001b[0m\u001b[0mname\u001b[0m\u001b[0;34m]\u001b[0m\u001b[0;34m\u001b[0m\u001b[0;34m\u001b[0m\u001b[0m\n\u001b[0;32m-> 6204\u001b[0;31m         \u001b[0;32mreturn\u001b[0m \u001b[0mobject\u001b[0m\u001b[0;34m.\u001b[0m\u001b[0m__getattribute__\u001b[0m\u001b[0;34m(\u001b[0m\u001b[0mself\u001b[0m\u001b[0;34m,\u001b[0m \u001b[0mname\u001b[0m\u001b[0;34m)\u001b[0m\u001b[0;34m\u001b[0m\u001b[0;34m\u001b[0m\u001b[0m\n\u001b[0m",
      "\u001b[0;31mAttributeError\u001b[0m: 'DataFrame' object has no attribute 'append'"
     ]
    }
   ],
   "source": [
    "load_dotenv()\n",
    "openai.api_key = os.getenv(\"OPENAI_API_KEY\")\n",
    "\n",
    "openai.util.logger.setLevel(logging.WARNING)\n",
    "\n",
    "print(\"---------------------------\")\n",
    "print(\"listed ci statements in the data file\")\n",
    "listed_cis = test_list\n",
    "cis = []\n",
    "for ci in listed_cis:\n",
    "    ci.update({\"type\":\"listed\"})\n",
    "cis = cis + listed_cis\n",
    "    \n",
    "### tmstamp and git hash \n",
    "tmstp = str(datetime.now())\n",
    "repo = git.Repo(search_parent_directories=True)\n",
    "sha = repo.head.object.hexsha\n",
    "\n",
    "## get results \n",
    "results = await gpt_cis(cis, data_info,\n",
    "        model=\"gpt-3.5-turbo\",\n",
    "        n=1,\n",
    "        temperature=0.6, tdelay = 0,\n",
    "        dryrun = False, verbose = False)\n",
    "    \n",
    "## append results to cis \n",
    "for i in range(len(cis)):\n",
    "    \n",
    "    cis[i].update(results[i][0])\n",
    "    cis[i].update({\"sha\" : sha, \"tmstmp\" : tmstp, \n",
    "                    \"model\" : \"gpt-3.5-turbo\", \"temperature\" : 0.6}) \n",
    "\n",
    "######### prepare final results\n",
    "cisdf = pd.DataFrame(cis)\n",
    "predictions = pre_stored_file.append(cisdf, ignore_index=True)\n"
   ]
  },
  {
   "cell_type": "code",
   "execution_count": 15,
   "metadata": {},
   "outputs": [
    {
     "data": {
      "text/html": [
       "<div>\n",
       "<style scoped>\n",
       "    .dataframe tbody tr th:only-of-type {\n",
       "        vertical-align: middle;\n",
       "    }\n",
       "\n",
       "    .dataframe tbody tr th {\n",
       "        vertical-align: top;\n",
       "    }\n",
       "\n",
       "    .dataframe thead th {\n",
       "        text-align: right;\n",
       "    }\n",
       "</style>\n",
       "<table border=\"1\" class=\"dataframe\">\n",
       "  <thead>\n",
       "    <tr style=\"text-align: right;\">\n",
       "      <th></th>\n",
       "      <th>Unnamed: 0</th>\n",
       "      <th>x</th>\n",
       "      <th>y</th>\n",
       "      <th>z</th>\n",
       "      <th>answ</th>\n",
       "      <th>pred</th>\n",
       "      <th>wpred</th>\n",
       "      <th>n_no</th>\n",
       "      <th>n_yes</th>\n",
       "      <th>n</th>\n",
       "      <th>...</th>\n",
       "      <th>med_rep_conf</th>\n",
       "      <th>med_rep_no_conf</th>\n",
       "      <th>med_rep_yes_conf</th>\n",
       "      <th>q25_rep_conf</th>\n",
       "      <th>q25_rep_no_conf</th>\n",
       "      <th>q25_rep_yes_conf</th>\n",
       "      <th>q75_rep_conf</th>\n",
       "      <th>q75_rep_no_conf</th>\n",
       "      <th>q75_rep_yes_conf</th>\n",
       "      <th>data</th>\n",
       "    </tr>\n",
       "  </thead>\n",
       "  <tbody>\n",
       "  </tbody>\n",
       "</table>\n",
       "<p>0 rows × 30 columns</p>\n",
       "</div>"
      ],
      "text/plain": [
       "Empty DataFrame\n",
       "Columns: [Unnamed: 0, x, y, z, answ, pred, wpred, n_no, n_yes, n, no_conf, yes_conf, sum_rep_no_conf, sum_rep_yes_conf, avg_rep_conf, avg_rep_no_conf, avg_rep_yes_conf, std_rep_conf, std_rep_no_conf, std_rep_yes_conf, med_rep_conf, med_rep_no_conf, med_rep_yes_conf, q25_rep_conf, q25_rep_no_conf, q25_rep_yes_conf, q75_rep_conf, q75_rep_no_conf, q75_rep_yes_conf, data]\n",
       "Index: []\n",
       "\n",
       "[0 rows x 30 columns]"
      ]
     },
     "execution_count": 15,
     "metadata": {},
     "output_type": "execute_result"
    }
   ],
   "source": [
    "pre_stored_file"
   ]
  },
  {
   "cell_type": "code",
   "execution_count": 16,
   "metadata": {},
   "outputs": [
    {
     "name": "stderr",
     "output_type": "stream",
     "text": [
      "/tmp/ipykernel_41962/4240338880.py:1: FutureWarning: The behavior of DataFrame concatenation with empty or all-NA entries is deprecated. In a future version, this will no longer exclude empty or all-NA columns when determining the result dtypes. To retain the old behavior, exclude the relevant entries before the concat operation.\n",
      "  predictions = pd.concat([pre_stored_file, cisdf], ignore_index=True)\n"
     ]
    }
   ],
   "source": [
    "predictions = pd.concat([pre_stored_file, cisdf], ignore_index=True)"
   ]
  },
  {
   "cell_type": "code",
   "execution_count": 123,
   "metadata": {},
   "outputs": [],
   "source": [
    "with open(experiment_path.joinpath('horn_africa_food_listed.yaml')) as file:\n",
    "    listed = yaml.load(file, Loader=yaml.FullLoader)"
   ]
  },
  {
   "cell_type": "code",
   "execution_count": 118,
   "metadata": {},
   "outputs": [
    {
     "data": {
      "text/plain": [
       "[('enso', 'spi', []),\n",
       " ('enso', 'fatalities', []),\n",
       " ('enso', 'food_prices', []),\n",
       " ('enso', 'livestock_prices', []),\n",
       " ('enso', 'water_prices', []),\n",
       " ('enso', 'sorghum_production', []),\n",
       " ('enso', 'idp_drought', []),\n",
       " ('enso', 'population', []),\n",
       " ('enso', 'cred_plus_rem_norm', []),\n",
       " ('enso', 'gam_norm', [])]"
      ]
     },
     "execution_count": 118,
     "metadata": {},
     "output_type": "execute_result"
    }
   ],
   "source": [
    "gptcit.test_list"
   ]
  },
  {
   "cell_type": "code",
   "execution_count": 86,
   "metadata": {},
   "outputs": [],
   "source": [
    "data_info\n",
    "data_driven_test\n",
    "gpt_variables = None\n",
    "method = \"vot\"\n",
    "null = \"YES\"\n",
    "pre_stored_file=None"
   ]
  },
  {
   "cell_type": "code",
   "execution_count": null,
   "metadata": {},
   "outputs": [],
   "source": []
  }
 ],
 "metadata": {
  "kernelspec": {
   "display_name": "Python 3.10.12 ('env': venv)",
   "language": "python",
   "name": "python3"
  },
  "language_info": {
   "codemirror_mode": {
    "name": "ipython",
    "version": 3
   },
   "file_extension": ".py",
   "mimetype": "text/x-python",
   "name": "python",
   "nbconvert_exporter": "python",
   "pygments_lexer": "ipython3",
   "version": "3.10.12"
  },
  "orig_nbformat": 4,
  "vscode": {
   "interpreter": {
    "hash": "e2b5c28ef9a03275ca864aeb5abb0bc1be89f25f67112a970f80af564c56d095"
   }
  }
 },
 "nbformat": 4,
 "nbformat_minor": 2
}
